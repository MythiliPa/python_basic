{
 "cells": [
  {
   "cell_type": "markdown",
   "metadata": {},
   "source": [
    "In Python, the random module is used to generate random numbers. Here’s a quick rundown of how it works:"
   ]
  },
  {
   "cell_type": "markdown",
   "metadata": {},
   "source": [
    "Basic Examples\n",
    "Generate a random integer between a range:"
   ]
  },
  {
   "cell_type": "code",
   "execution_count": 15,
   "metadata": {},
   "outputs": [
    {
     "name": "stdout",
     "output_type": "stream",
     "text": [
      "4\n"
     ]
    }
   ],
   "source": [
    "import random\n",
    "number = random.randint(1, 10)  # Returns a random integer between 1 and 10 (inclusive)\n",
    "print(number)"
   ]
  },
  {
   "cell_type": "code",
   "execution_count": 14,
   "metadata": {},
   "outputs": [
    {
     "name": "stdout",
     "output_type": "stream",
     "text": [
      "0.27502931836911926\n"
     ]
    }
   ],
   "source": [
    "#Generate a random float between 0 and 1:\n",
    "\n",
    "import random\n",
    "number = random.random()  # Returns a random float between 0.0 and 1.0\n",
    "print(number)"
   ]
  },
  {
   "cell_type": "code",
   "execution_count": 13,
   "metadata": {},
   "outputs": [
    {
     "name": "stdout",
     "output_type": "stream",
     "text": [
      "5.25010755222667\n"
     ]
    }
   ],
   "source": [
    "#Generate a random float in a specific range\n",
    "import random\n",
    "number = random.uniform(5, 15)  # Returns a random float between 5 and 15\n",
    "print(number)"
   ]
  },
  {
   "cell_type": "code",
   "execution_count": 10,
   "metadata": {},
   "outputs": [
    {
     "name": "stdout",
     "output_type": "stream",
     "text": [
      "banana\n"
     ]
    }
   ],
   "source": [
    "#Pick a random item from a list\n",
    "import random\n",
    "items = [\"apple\", \"banana\", \"cherry\"]\n",
    "choice = random.choice(items)  # Returns a random item from the list\n",
    "print(choice)"
   ]
  },
  {
   "cell_type": "markdown",
   "metadata": {},
   "source": [
    "Notes on \"Prediction\"\n",
    "If you were asking about predicting random numbers, it’s worth noting that Python’s random module uses a pseudorandom number generator (PRNG), specifically the Mersenne Twister algorithm. While it’s deterministic (meaning the sequence can be predicted if you know the seed), it’s designed to be statistically random for most practical purposes. You can set a seed to make the randomness repeatable:"
   ]
  },
  {
   "cell_type": "code",
   "execution_count": 12,
   "metadata": {},
   "outputs": [
    {
     "name": "stdout",
     "output_type": "stream",
     "text": [
      "2\n"
     ]
    }
   ],
   "source": [
    "import random\n",
    "random.seed(42)  # Set a seed for reproducibility\n",
    "print(random.randint(1, 10))  # Will always give the same \"random\" number with this seed"
   ]
  }
 ],
 "metadata": {
  "kernelspec": {
   "display_name": "Python 3",
   "language": "python",
   "name": "python3"
  },
  "language_info": {
   "codemirror_mode": {
    "name": "ipython",
    "version": 3
   },
   "file_extension": ".py",
   "mimetype": "text/x-python",
   "name": "python",
   "nbconvert_exporter": "python",
   "pygments_lexer": "ipython3",
   "version": "3.10.0"
  }
 },
 "nbformat": 4,
 "nbformat_minor": 2
}
