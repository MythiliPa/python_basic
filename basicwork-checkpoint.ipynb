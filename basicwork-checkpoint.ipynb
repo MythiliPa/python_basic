{
 "cells": [
  {
   "cell_type": "code",
   "execution_count": null,
   "id": "1f6bdb76",
   "metadata": {},
   "outputs": [],
   "source": [
    "#Comment\n",
    "example=1 # this is the comment\n",
    "\n",
    "text=\"# this is not a comment because it's inside quotes\""
   ]
  },
  {
   "cell_type": "code",
   "execution_count": null,
   "id": "233c44aa",
   "metadata": {},
   "outputs": [],
   "source": [
    "#Numbers"
   ]
  },
  {
   "cell_type": "code",
   "execution_count": 1,
   "id": "2b3f6d46",
   "metadata": {},
   "outputs": [
    {
     "data": {
      "text/plain": [
       "4"
      ]
     },
     "execution_count": 1,
     "metadata": {},
     "output_type": "execute_result"
    }
   ],
   "source": [
    "2+2"
   ]
  },
  {
   "cell_type": "code",
   "execution_count": 2,
   "id": "2864ba5b",
   "metadata": {},
   "outputs": [
    {
     "data": {
      "text/plain": [
       "0"
      ]
     },
     "execution_count": 2,
     "metadata": {},
     "output_type": "execute_result"
    }
   ],
   "source": [
    "30-5*6"
   ]
  },
  {
   "cell_type": "code",
   "execution_count": 3,
   "id": "cabef217",
   "metadata": {},
   "outputs": [
    {
     "data": {
      "text/plain": [
       "2.5"
      ]
     },
     "execution_count": 3,
     "metadata": {},
     "output_type": "execute_result"
    }
   ],
   "source": [
    "(40-5*6)/4           # division always returns a floating point number"
   ]
  },
  {
   "cell_type": "code",
   "execution_count": 4,
   "id": "2445a84b",
   "metadata": {},
   "outputs": [
    {
     "data": {
      "text/plain": [
       "2.0"
      ]
     },
     "execution_count": 4,
     "metadata": {},
     "output_type": "execute_result"
    }
   ],
   "source": [
    "# classic division returns a float\n",
    "4/2"
   ]
  },
  {
   "cell_type": "code",
   "execution_count": 6,
   "id": "fce0a154",
   "metadata": {},
   "outputs": [
    {
     "data": {
      "text/plain": [
       "2"
      ]
     },
     "execution_count": 6,
     "metadata": {},
     "output_type": "execute_result"
    }
   ],
   "source": [
    "# floor division discards the fractional part\n",
    "5//2\n"
   ]
  },
  {
   "cell_type": "code",
   "execution_count": 7,
   "id": "b6d704c1",
   "metadata": {},
   "outputs": [
    {
     "data": {
      "text/plain": [
       "1"
      ]
     },
     "execution_count": 7,
     "metadata": {},
     "output_type": "execute_result"
    }
   ],
   "source": [
    "# the % operator returns the remainder of the division\n",
    "5%2"
   ]
  },
  {
   "cell_type": "code",
   "execution_count": 8,
   "id": "2b3012ee",
   "metadata": {},
   "outputs": [
    {
     "data": {
      "text/plain": [
       "343"
      ]
     },
     "execution_count": 8,
     "metadata": {},
     "output_type": "execute_result"
    }
   ],
   "source": [
    "# ** operator to calculate powers\n",
    "7**3  # 7 to the power of 3"
   ]
  },
  {
   "cell_type": "code",
   "execution_count": null,
   "id": "3b502607",
   "metadata": {},
   "outputs": [],
   "source": [
    "TEXT:"
   ]
  },
  {
   "cell_type": "code",
   "execution_count": 11,
   "id": "353f3da7",
   "metadata": {},
   "outputs": [
    {
     "data": {
      "text/plain": [
       "'learning python'"
      ]
     },
     "execution_count": 11,
     "metadata": {},
     "output_type": "execute_result"
    }
   ],
   "source": [
    "\n",
    "'learning python'  # single quotes"
   ]
  },
  {
   "cell_type": "code",
   "execution_count": 12,
   "id": "acda31b8",
   "metadata": {},
   "outputs": [
    {
     "data": {
      "text/plain": [
       "\"yay! I'm learing python :)\""
      ]
     },
     "execution_count": 12,
     "metadata": {},
     "output_type": "execute_result"
    }
   ],
   "source": [
    "\"yay! I'm learing python :)\"    # double quotes"
   ]
  },
  {
   "cell_type": "code",
   "execution_count": 13,
   "id": "58ef8e4d",
   "metadata": {},
   "outputs": [
    {
     "data": {
      "text/plain": [
       "'2000'"
      ]
     },
     "execution_count": 13,
     "metadata": {},
     "output_type": "execute_result"
    }
   ],
   "source": [
    "# digits and numerals enclosed in quotes are also strings\n",
    "'2000'"
   ]
  },
  {
   "cell_type": "code",
   "execution_count": 17,
   "id": "fd08e3e0",
   "metadata": {},
   "outputs": [
    {
     "data": {
      "text/plain": [
       "\"sandal'\""
      ]
     },
     "execution_count": 17,
     "metadata": {},
     "output_type": "execute_result"
    }
   ],
   "source": [
    "# in order to escape the single quote... use \\'\n",
    "\n",
    "'sandal\\''"
   ]
  },
  {
   "cell_type": "code",
   "execution_count": 18,
   "id": "3b81fc6a",
   "metadata": {},
   "outputs": [
    {
     "data": {
      "text/plain": [
       "'sandal'"
      ]
     },
     "execution_count": 18,
     "metadata": {},
     "output_type": "execute_result"
    }
   ],
   "source": [
    "\"sandal\""
   ]
  },
  {
   "cell_type": "code",
   "execution_count": 19,
   "id": "52ba2231",
   "metadata": {},
   "outputs": [
    {
     "data": {
      "text/plain": [
       "'sandal...'"
      ]
     },
     "execution_count": 19,
     "metadata": {},
     "output_type": "execute_result"
    }
   ],
   "source": [
    "\"sandal...\"    # to change the diouble quote to single quote, use ..."
   ]
  },
  {
   "cell_type": "code",
   "execution_count": 20,
   "id": "0a7c3b50",
   "metadata": {},
   "outputs": [
    {
     "data": {
      "text/plain": [
       "'Hi!\\n I am learning python.'"
      ]
     },
     "execution_count": 20,
     "metadata": {},
     "output_type": "execute_result"
    }
   ],
   "source": [
    "s= 'Hi!\\n I am learning python.'        # \\n means newline\n",
    "s"
   ]
  },
  {
   "cell_type": "code",
   "execution_count": 21,
   "id": "882e9518",
   "metadata": {},
   "outputs": [
    {
     "name": "stdout",
     "output_type": "stream",
     "text": [
      "Hi!\n",
      " I am learning python.\n"
     ]
    }
   ],
   "source": [
    "print(s)"
   ]
  },
  {
   "cell_type": "code",
   "execution_count": 22,
   "id": "9f9d47ea",
   "metadata": {},
   "outputs": [
    {
     "name": "stdout",
     "output_type": "stream",
     "text": [
      "A:name\n",
      "ame\n"
     ]
    }
   ],
   "source": [
    "print('A:name\\name')"
   ]
  },
  {
   "cell_type": "code",
   "execution_count": 23,
   "id": "f9e253e5",
   "metadata": {},
   "outputs": [
    {
     "name": "stdout",
     "output_type": "stream",
     "text": [
      "A:name\\name\n"
     ]
    }
   ],
   "source": [
    "print(r'A:name\\name')      r # b used before if do not want \\n intrepreted as special characters"
   ]
  },
  {
   "cell_type": "code",
   "execution_count": 24,
   "id": "8f12ca07",
   "metadata": {},
   "outputs": [
    {
     "ename": "SyntaxError",
     "evalue": "invalid syntax (1367882344.py, line 1)",
     "output_type": "error",
     "traceback": [
      "\u001b[1;36m  Cell \u001b[1;32mIn[24], line 1\u001b[1;36m\u001b[0m\n\u001b[1;33m    Strings can be concatenated with the + opeartor and repeated with *\u001b[0m\n\u001b[1;37m            ^\u001b[0m\n\u001b[1;31mSyntaxError\u001b[0m\u001b[1;31m:\u001b[0m invalid syntax\n"
     ]
    }
   ],
   "source": [
    "Strings can be concatenated with the + opeartor and repeated with *\n",
    "example\n",
    "\n",
    "2*'be' + \" careful\""
   ]
  },
  {
   "cell_type": "code",
   "execution_count": 25,
   "id": "e3f84281",
   "metadata": {},
   "outputs": [
    {
     "data": {
      "text/plain": [
       "'bebecareful'"
      ]
     },
     "execution_count": 25,
     "metadata": {},
     "output_type": "execute_result"
    }
   ],
   "source": [
    "2*'be' + 'careful'"
   ]
  },
  {
   "cell_type": "code",
   "execution_count": 27,
   "id": "a9e6a528",
   "metadata": {},
   "outputs": [
    {
     "data": {
      "text/plain": [
       "'becareful'"
      ]
     },
     "execution_count": 27,
     "metadata": {},
     "output_type": "execute_result"
    }
   ],
   "source": [
    "'be''careful'"
   ]
  },
  {
   "cell_type": "code",
   "execution_count": 7,
   "id": "a5f74070",
   "metadata": {
    "scrolled": true
   },
   "outputs": [
    {
     "ename": "TypeError",
     "evalue": "type.__new__() argument 1 must be str, not int",
     "output_type": "error",
     "traceback": [
      "\u001b[1;31m---------------------------------------------------------------------------\u001b[0m",
      "\u001b[1;31mTypeError\u001b[0m                                 Traceback (most recent call last)",
      "Cell \u001b[1;32mIn[7], line 4\u001b[0m\n\u001b[0;32m      2\u001b[0m y \u001b[38;5;241m=\u001b[39m \u001b[38;5;124m\"\u001b[39m\u001b[38;5;124mJohn\u001b[39m\u001b[38;5;124m\"\u001b[39m\n\u001b[0;32m      3\u001b[0m z\u001b[38;5;241m=\u001b[39m \u001b[38;5;241m3.9\u001b[39m\n\u001b[1;32m----> 4\u001b[0m \u001b[38;5;28;43mtype\u001b[39;49m\u001b[43m(\u001b[49m\u001b[43mx\u001b[49m\u001b[43m,\u001b[49m\u001b[43my\u001b[49m\u001b[43m,\u001b[49m\u001b[43mz\u001b[49m\u001b[43m)\u001b[49m\n",
      "\u001b[1;31mTypeError\u001b[0m: type.__new__() argument 1 must be str, not int"
     ]
    }
   ],
   "source": [
    "x = 5\n",
    "y = \"John\"\n",
    "z= 3.9\n",
    "type(x,y,z)"
   ]
  },
  {
   "cell_type": "code",
   "execution_count": 8,
   "id": "00eb380a",
   "metadata": {},
   "outputs": [
    {
     "data": {
      "text/plain": [
       "'YT'"
      ]
     },
     "execution_count": 8,
     "metadata": {},
     "output_type": "execute_result"
    }
   ],
   "source": [
    "A='MYTHILI'\n",
    "A[1:3]\n",
    "    \n"
   ]
  },
  {
   "cell_type": "code",
   "execution_count": 9,
   "id": "81471533",
   "metadata": {},
   "outputs": [
    {
     "data": {
      "text/plain": [
       "''"
      ]
     },
     "execution_count": 9,
     "metadata": {},
     "output_type": "execute_result"
    }
   ],
   "source": [
    "A[-1:-3]"
   ]
  },
  {
   "cell_type": "code",
   "execution_count": 10,
   "id": "7da6d810",
   "metadata": {},
   "outputs": [
    {
     "data": {
      "text/plain": [
       "'I'"
      ]
     },
     "execution_count": 10,
     "metadata": {},
     "output_type": "execute_result"
    }
   ],
   "source": [
    "A[-1]"
   ]
  },
  {
   "cell_type": "code",
   "execution_count": 11,
   "id": "b1a138a8",
   "metadata": {},
   "outputs": [
    {
     "data": {
      "text/plain": [
       "'YTHILI'"
      ]
     },
     "execution_count": 11,
     "metadata": {},
     "output_type": "execute_result"
    }
   ],
   "source": [
    "A[-6:]"
   ]
  },
  {
   "cell_type": "code",
   "execution_count": 12,
   "id": "559fce5c",
   "metadata": {},
   "outputs": [
    {
     "data": {
      "text/plain": [
       "4"
      ]
     },
     "execution_count": 12,
     "metadata": {},
     "output_type": "execute_result"
    }
   ],
   "source": [
    "A.index(\"I\")"
   ]
  },
  {
   "cell_type": "code",
   "execution_count": 13,
   "id": "e01d4c67",
   "metadata": {},
   "outputs": [
    {
     "data": {
      "text/plain": [
       "1"
      ]
     },
     "execution_count": 13,
     "metadata": {},
     "output_type": "execute_result"
    }
   ],
   "source": [
    "b='apple'\n",
    "b.index('p')"
   ]
  },
  {
   "cell_type": "code",
   "execution_count": 14,
   "id": "07244b09",
   "metadata": {},
   "outputs": [
    {
     "data": {
      "text/plain": [
       "'APPLE'"
      ]
     },
     "execution_count": 14,
     "metadata": {},
     "output_type": "execute_result"
    }
   ],
   "source": [
    "b.upper()"
   ]
  },
  {
   "cell_type": "code",
   "execution_count": 15,
   "id": "ce8873f3",
   "metadata": {},
   "outputs": [
    {
     "data": {
      "text/plain": [
       "'mythili'"
      ]
     },
     "execution_count": 15,
     "metadata": {},
     "output_type": "execute_result"
    }
   ],
   "source": [
    "A.lower()"
   ]
  },
  {
   "cell_type": "code",
   "execution_count": null,
   "id": "3472133a",
   "metadata": {},
   "outputs": [],
   "source": []
  }
 ],
 "metadata": {
  "kernelspec": {
   "display_name": "Python 3 (ipykernel)",
   "language": "python",
   "name": "python3"
  },
  "language_info": {
   "codemirror_mode": {
    "name": "ipython",
    "version": 3
   },
   "file_extension": ".py",
   "mimetype": "text/x-python",
   "name": "python",
   "nbconvert_exporter": "python",
   "pygments_lexer": "ipython3",
   "version": "3.11.4"
  }
 },
 "nbformat": 4,
 "nbformat_minor": 5
}
